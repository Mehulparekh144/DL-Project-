{
 "cells": [
  {
   "cell_type": "markdown",
   "metadata": {},
   "source": [
    "# Breast Cancer Image Classification And Predictions\n",
    "\n",
    "\n",
    "### Dataset Used - [Breast Histopathology images](https://www.kaggle.com/paultimothymooney/breast-histopathology-images)\n",
    "\n",
    "### Work Done by\n",
    "\n",
    "- Shubham Bhadra 1914005 IT-A\n",
    "- Harsh Khona 1914031 IT-A\n",
    "- Mehul Parekh 1914044 IT-A"
   ]
  },
  {
   "cell_type": "markdown",
   "metadata": {},
   "source": [
    "#### Importing necessary modules"
   ]
  },
  {
   "cell_type": "code",
   "execution_count": 71,
   "metadata": {},
   "outputs": [],
   "source": [
    "import pandas as pd\n",
    "import numpy as np\n",
    "import os\n",
    "from glob import glob\n",
    "import random\n",
    "import matplotlib.pyplot as plt\n",
    "from sklearn.model_selection import train_test_split\n",
    "import tensorflow as tf\n",
    "import keras\n",
    "from matplotlib.image import imread\n",
    "import cv2\n",
    "from keras.utils.np_utils import to_categorical\n",
    "from keras.models import Sequential\n",
    "from keras.optimizers import Adam,Adagrad,Adadelta,SGD,RMSprop\n",
    "from keras.layers import Dense , Dropout , Activation , Conv2D\n",
    "from keras.layers import Flatten , MaxPool2D , MaxPooling2D , BatchNormalization\n",
    "from keras.models import load_model\n",
    "from keras.preprocessing.image import load_img\n",
    "from keras.preprocessing.image import img_to_array\n",
    "from keras.applications.vgg16 import preprocess_input\n",
    "from keras.applications.vgg16 import decode_predictions\n",
    "%matplotlib inline"
   ]
  },
  {
   "cell_type": "markdown",
   "metadata": {},
   "source": [
    "#### Reading and converting image data to arrays"
   ]
  },
  {
   "cell_type": "code",
   "execution_count": 2,
   "metadata": {},
   "outputs": [],
   "source": [
    "base = os.listdir('archive (2)/IDC_regular_ps50_idx5/')"
   ]
  },
  {
   "cell_type": "code",
   "execution_count": 3,
   "metadata": {},
   "outputs": [],
   "source": [
    "class0 = []\n",
    "class1 = []\n",
    "\n",
    "for x in base:\n",
    "    for y in os.listdir('archive (2)/IDC_regular_ps50_idx5/' + x + '/0'):        \n",
    "        class0.append(y)\n",
    "\n",
    "    for z in os.listdir('archive (2)/IDC_regular_ps50_idx5/' + x + '/1'):\n",
    "        class1.append(z)\n",
    "\n",
    "    "
   ]
  },
  {
   "cell_type": "code",
   "execution_count": 4,
   "metadata": {},
   "outputs": [
    {
     "name": "stdout",
     "output_type": "stream",
     "text": [
      "198738 78786\n"
     ]
    }
   ],
   "source": [
    "print(len(class0),len(class1))"
   ]
  },
  {
   "cell_type": "code",
   "execution_count": 5,
   "metadata": {},
   "outputs": [],
   "source": [
    "sampled_class0 = random.sample(class0,78786)\n",
    "sampled_class1 = random.sample(class1,78786)"
   ]
  },
  {
   "cell_type": "code",
   "execution_count": 6,
   "metadata": {},
   "outputs": [],
   "source": [
    "sampled_class0_new = []\n",
    "sampled_class1_new = []\n",
    "for i in sampled_class0:\n",
    "    newi = i.split('_')[0]\n",
    "    sampled_class0_new.append('archive (2)/IDC_regular_ps50_idx5/' + newi + '/0/'+ i)\n",
    "    \n",
    "for j in sampled_class1:\n",
    "    newi = j.split('_')[0]\n",
    "    sampled_class1_new.append('archive (2)/IDC_regular_ps50_idx5/' + newi + '/1/'+ j )\n",
    "    \n"
   ]
  },
  {
   "cell_type": "code",
   "execution_count": 9,
   "metadata": {
    "scrolled": true
   },
   "outputs": [],
   "source": [
    "for x in base:\n",
    "    img = cv2.imread('archive (2)/IDC_regular_ps50_idx5/' + x + '/0/'+'12820_idx5_x3251_y801_class0.png')\n",
    "    "
   ]
  },
  {
   "cell_type": "code",
   "execution_count": 10,
   "metadata": {
    "code_folding": []
   },
   "outputs": [],
   "source": [
    "def imageArrays(data,label):\n",
    "    img_arrays = []\n",
    "    for i in data:\n",
    "        if i.endswith('png'):\n",
    "            new_i = i.split('_')[0]\n",
    "            for num in range(0,2):\n",
    "                new_i_path = 'archive (2)/IDC_regular_ps50_idx5/' + new_i + '/'+ str(num) +'/'+ i\n",
    "                img = cv2.imread(new_i_path,cv2.IMREAD_COLOR)\n",
    "                img_sized = cv2.resize(img,(50,50), interpolation=cv2.INTER_LINEAR)\n",
    "                img_arrays.append([img_sized , label])\n",
    "                \n",
    "    return img_arrays"
   ]
  },
  {
   "cell_type": "code",
   "execution_count": 11,
   "metadata": {},
   "outputs": [],
   "source": [
    "from matplotlib.image import imread\n",
    "import cv2\n",
    "\n",
    "def imageArrays(data,label):\n",
    "    img_arrays = []\n",
    "    for i in data:\n",
    "        if i.endswith('png'):\n",
    "                img = cv2.imread(i,cv2.IMREAD_COLOR)\n",
    "                img_sized = cv2.resize(img,(50,50), interpolation=cv2.INTER_LINEAR)\n",
    "                img_arrays.append([img_sized , label])\n",
    "                \n",
    "    return img_arrays"
   ]
  },
  {
   "cell_type": "code",
   "execution_count": 12,
   "metadata": {
    "scrolled": true
   },
   "outputs": [],
   "source": [
    "class0_array = imageArrays(sampled_class0_new[:10000], 0)\n",
    "class1_array = imageArrays(sampled_class1_new[:10000], 1)"
   ]
  },
  {
   "cell_type": "code",
   "execution_count": 13,
   "metadata": {
    "scrolled": true
   },
   "outputs": [
    {
     "name": "stderr",
     "output_type": "stream",
     "text": [
      "<__array_function__ internals>:5: VisibleDeprecationWarning: Creating an ndarray from ragged nested sequences (which is a list-or-tuple of lists-or-tuples-or ndarrays with different lengths or shapes) is deprecated. If you meant to do this, you must specify 'dtype=object' when creating the ndarray\n"
     ]
    }
   ],
   "source": [
    "combined_data = np.concatenate((class0_array,class1_array))\n",
    "random.seed(42)\n",
    "random.shuffle(combined_data)"
   ]
  },
  {
   "cell_type": "code",
   "execution_count": 14,
   "metadata": {},
   "outputs": [
    {
     "data": {
      "text/plain": [
       "(20000, 50, 50, 3)"
      ]
     },
     "execution_count": 14,
     "metadata": {},
     "output_type": "execute_result"
    }
   ],
   "source": [
    "X = []\n",
    "y = []\n",
    "\n",
    "for features,labels in combined_data:\n",
    "    X.append(features)\n",
    "    y.append(labels)\n",
    "    \n",
    "X = np.array(X).reshape(-1,50,50,3)\n",
    "X.shape"
   ]
  },
  {
   "cell_type": "markdown",
   "metadata": {},
   "source": [
    "#### Splitting image arrays into test and training "
   ]
  },
  {
   "cell_type": "code",
   "execution_count": 68,
   "metadata": {},
   "outputs": [
    {
     "name": "stdout",
     "output_type": "stream",
     "text": [
      "(16000, 50, 50, 3) (4000, 50, 50, 3) (16000, 2) (4000, 2)\n"
     ]
    }
   ],
   "source": [
    "X_train,X_test,y_train,y_test = train_test_split(X,y,test_size=0.2,random_state=42)\n",
    "y_train = to_categorical(y_train)\n",
    "y_test = to_categorical(y_test)\n",
    "print(X_train.shape,X_test.shape,y_train.shape,y_test.shape)"
   ]
  },
  {
   "cell_type": "markdown",
   "metadata": {},
   "source": [
    "#### Creating Model"
   ]
  },
  {
   "cell_type": "code",
   "execution_count": 16,
   "metadata": {
    "scrolled": true
   },
   "outputs": [
    {
     "name": "stdout",
     "output_type": "stream",
     "text": [
      "Epoch 1/20\n",
      "500/500 - 59s - loss: 2.0811 - accuracy: 0.8424 - val_loss: 0.3666 - val_accuracy: 0.8640\n",
      "Epoch 2/20\n",
      "500/500 - 58s - loss: 0.3107 - accuracy: 0.8895 - val_loss: 0.3318 - val_accuracy: 0.8830\n",
      "Epoch 3/20\n",
      "500/500 - 58s - loss: 0.2293 - accuracy: 0.9183 - val_loss: 0.2983 - val_accuracy: 0.8935\n",
      "Epoch 4/20\n",
      "500/500 - 59s - loss: 0.1740 - accuracy: 0.9397 - val_loss: 0.2925 - val_accuracy: 0.9043\n",
      "Epoch 5/20\n",
      "500/500 - 59s - loss: 0.1325 - accuracy: 0.9582 - val_loss: 0.2841 - val_accuracy: 0.9050\n",
      "Epoch 6/20\n",
      "500/500 - 59s - loss: 0.1051 - accuracy: 0.9678 - val_loss: 0.2796 - val_accuracy: 0.9137\n",
      "Epoch 7/20\n",
      "500/500 - 59s - loss: 0.0769 - accuracy: 0.9791 - val_loss: 0.3392 - val_accuracy: 0.9080\n",
      "Epoch 8/20\n",
      "500/500 - 59s - loss: 0.0609 - accuracy: 0.9829 - val_loss: 0.3040 - val_accuracy: 0.9178\n",
      "Epoch 9/20\n",
      "500/500 - 59s - loss: 0.0450 - accuracy: 0.9888 - val_loss: 0.3258 - val_accuracy: 0.9185\n",
      "Epoch 10/20\n",
      "500/500 - 59s - loss: 0.0380 - accuracy: 0.9908 - val_loss: 0.3954 - val_accuracy: 0.9187\n",
      "Epoch 11/20\n",
      "500/500 - 59s - loss: 0.0322 - accuracy: 0.9924 - val_loss: 0.4113 - val_accuracy: 0.9085\n",
      "Epoch 12/20\n",
      "500/500 - 59s - loss: 0.0241 - accuracy: 0.9949 - val_loss: 0.4575 - val_accuracy: 0.9170\n",
      "Epoch 13/20\n",
      "500/500 - 59s - loss: 0.0296 - accuracy: 0.9933 - val_loss: 0.4357 - val_accuracy: 0.9222\n",
      "Epoch 14/20\n",
      "500/500 - 59s - loss: 0.0179 - accuracy: 0.9964 - val_loss: 0.4609 - val_accuracy: 0.9187\n",
      "Epoch 15/20\n",
      "500/500 - 60s - loss: 0.0136 - accuracy: 0.9977 - val_loss: 0.4375 - val_accuracy: 0.9190\n",
      "Epoch 16/20\n",
      "500/500 - 59s - loss: 0.0109 - accuracy: 0.9988 - val_loss: 0.5622 - val_accuracy: 0.9178\n",
      "Epoch 17/20\n",
      "500/500 - 59s - loss: 0.0178 - accuracy: 0.9969 - val_loss: 0.4989 - val_accuracy: 0.9155\n",
      "Epoch 18/20\n",
      "500/500 - 59s - loss: 0.0124 - accuracy: 0.9977 - val_loss: 0.5379 - val_accuracy: 0.9180\n",
      "Epoch 19/20\n",
      "500/500 - 59s - loss: 0.0098 - accuracy: 0.9987 - val_loss: 0.5111 - val_accuracy: 0.9227\n",
      "Epoch 20/20\n",
      "500/500 - 60s - loss: 0.0062 - accuracy: 0.9989 - val_loss: 0.6916 - val_accuracy: 0.9160\n"
     ]
    }
   ],
   "source": [
    "def createModel():\n",
    "    model = Sequential()\n",
    "    model.add(Conv2D(64,kernel_size=3,activation='relu',input_shape=(50,50,3)))\n",
    "    model.add(Conv2D(32,kernel_size=3,activation='relu'))\n",
    "    model.add(Flatten())\n",
    "    model.add(Dense(2,activation='softmax'))\n",
    "    adam = Adam(learning_rate=0.0001)\n",
    "    model.compile(loss=\"binary_crossentropy\",optimizer=adam,metrics=['accuracy'])\n",
    "    \n",
    "    return model\n",
    "\n",
    "\n",
    "model = createModel()\n",
    "    \n",
    "\n",
    "history = model.fit(X_train,y_train,validation_data=(X_test,y_test),epochs=20,verbose=2,)\n",
    "    "
   ]
  },
  {
   "cell_type": "markdown",
   "metadata": {},
   "source": [
    "#### 1st 20 epochs"
   ]
  },
  {
   "cell_type": "code",
   "execution_count": 17,
   "metadata": {
    "scrolled": true
   },
   "outputs": [
    {
     "data": {
      "image/png": "[encoded data removed]",
      "text/plain": [
       "<Figure size 432x288 with 1 Axes>"
      ]
     },
     "metadata": {
      "needs_background": "light"
     },
     "output_type": "display_data"
    }
   ],
   "source": [
    "plt.plot(history.history['accuracy'])\n",
    "plt.plot(history.history['val_accuracy'])\n",
    "plt.title('Model Accuracy')\n",
    "plt.xlabel('Accuracy')\n",
    "plt.ylabel('Epochs')\n",
    "plt.legend(['Train','Test'])\n",
    "plt.show()"
   ]
  },
  {
   "cell_type": "code",
   "execution_count": 18,
   "metadata": {
    "scrolled": false
   },
   "outputs": [
    {
     "data": {
      "image/png": "[encoded data removed]",
      "text/plain": [
       "<Figure size 432x288 with 1 Axes>"
      ]
     },
     "metadata": {
      "needs_background": "light"
     },
     "output_type": "display_data"
    }
   ],
   "source": [
    "plt.plot(history.history['loss'])\n",
    "plt.plot(history.history['val_loss'])\n",
    "plt.title('Model Loss')\n",
    "plt.xlabel('Loss')\n",
    "plt.ylabel('Epochs')\n",
    "plt.legend(['Train','Test'])\n",
    "plt.show()"
   ]
  },
  {
   "cell_type": "markdown",
   "metadata": {},
   "source": [
    "#### Predicting images"
   ]
  },
  {
   "cell_type": "code",
   "execution_count": 66,
   "metadata": {},
   "outputs": [],
   "source": [
    "def predict_img(img):\n",
    "\n",
    "    test_img = load_img(img,target_size=(50,50))\n",
    "    test_img_arr = np.array(test_img)\n",
    "    test_img_arr = test_img_arr.reshape(-1,50,50,3)\n",
    "    plt.imshow(test_img)\n",
    "    predictions = np.argmax(model.predict(test_img_arr),axis=-1)\n",
    "\n",
    "    \n",
    "    if(predictions == 1):\n",
    "        print(f'Breast Cancer is present  | Prediction = {predictions}')\n",
    "    \n",
    "    else:\n",
    "        print(f'Breast Cancer not present | Prediction = {predictions}')\n",
    "    \n",
    "    \n",
    "    \n",
    "    "
   ]
  },
  {
   "cell_type": "code",
   "execution_count": 67,
   "metadata": {},
   "outputs": [
    {
     "name": "stdout",
     "output_type": "stream",
     "text": [
      "Breast Cancer is present  | Prediction = [1]\n"
     ]
    },
    {
     "data": {
      "image/png": "[encoded data removed]",
      "text/plain": [
       "<Figure size 432x288 with 1 Axes>"
      ]
     },
     "metadata": {
      "needs_background": "light"
     },
     "output_type": "display_data"
    }
   ],
   "source": [
    "predict_img('test.jpg')"
   ]
  },
  {
   "cell_type": "code",
   "execution_count": 70,
   "metadata": {
    "scrolled": true
   },
   "outputs": [
    {
     "name": "stdout",
     "output_type": "stream",
     "text": [
      "Breast Cancer not present | Prediction = [0]\n"
     ]
    },
    {
     "data": {
      "image/png": "[encoded data removed]",
      "text/plain": [
       "<Figure size 432x288 with 1 Axes>"
      ]
     },
     "metadata": {
      "needs_background": "light"
     },
     "output_type": "display_data"
    }
   ],
   "source": [
    "predict_img('test2.png')"
   ]
  }
 ],
 "metadata": {
  "kernelspec": {
   "display_name": "Python 3",
   "language": "python",
   "name": "python3"
  },
  "language_info": {
   "codemirror_mode": {
    "name": "ipython",
    "version": 3
   },
   "file_extension": ".py",
   "mimetype": "text/x-python",
   "name": "python",
   "nbconvert_exporter": "python",
   "pygments_lexer": "ipython3",
   "version": "3.8.3"
  }
 },
 "nbformat": 4,
 "nbformat_minor": 4
}
