{
 "cells": [
  {
   "cell_type": "code",
   "execution_count": 3,
   "metadata": {},
   "outputs": [],
   "source": [
    "from matplotlib.image import imread\n",
    "import cv2\n",
    "\n",
    "def imageArrays(data,label):\n",
    "    img_arrays = []\n",
    "    new_i_path = 'archive (2)\\IDC_regular_ps50_idx5\\8863\\0\\8863_idx5_x51_y1251_class0'\n",
    "    img = cv2.imread(new_i_path,cv2.IMREAD_COLOR)\n",
    "    img_sized = cv2.resize(img,(50,50), interpolation=cv2.INTER_LINEAR)\n",
    "    img_arrays.append([img_sized , label])\n",
    "                \n",
    "    return img_arrays"
   ]
  },
  {
   "cell_type": "code",
   "execution_count": null,
   "metadata": {},
   "outputs": [],
   "source": [
    "imageArrays()"
   ]
  }
 ],
 "metadata": {
  "kernelspec": {
   "display_name": "Python 3",
   "language": "python",
   "name": "python3"
  },
  "language_info": {
   "codemirror_mode": {
    "name": "ipython",
    "version": 3
   },
   "file_extension": ".py",
   "mimetype": "text/x-python",
   "name": "python",
   "nbconvert_exporter": "python",
   "pygments_lexer": "ipython3",
   "version": "3.8.3"
  }
 },
 "nbformat": 4,
 "nbformat_minor": 4
}
