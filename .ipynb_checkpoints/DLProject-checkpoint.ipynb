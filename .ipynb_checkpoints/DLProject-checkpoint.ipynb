{
 "cells": [
  {
   "cell_type": "code",
   "execution_count": 1,
   "metadata": {},
   "outputs": [],
   "source": [
    "import pandas as pd\n",
    "import numpy as np\n",
    "import os\n",
    "from glob import glob\n",
    "import random\n",
    "import matplotlib.pyplot as plt\n",
    "from sklearn.model_selection import train_test_split\n",
    "import tensorflow as tf\n",
    "import keras\n",
    "from keras.utils.np_utils import to_categorical\n",
    "from keras.models import Sequential\n",
    "from keras.optimizers import Adam,Adagrad,Adadelta,SGD,RMSprop\n",
    "from keras.layers import Dense , Dropout , Activation , Conv2D\n",
    "from keras.layers import Flatten , MaxPool2D , MaxPooling2D , BatchNormalization\n",
    "%matplotlib inline"
   ]
  },
  {
   "cell_type": "code",
   "execution_count": 2,
   "metadata": {},
   "outputs": [],
   "source": [
    "base = os.listdir('archive (2)/IDC_regular_ps50_idx5/')"
   ]
  },
  {
   "cell_type": "code",
   "execution_count": 3,
   "metadata": {},
   "outputs": [],
   "source": [
    "class0 = []\n",
    "class1 = []\n",
    "\n",
    "for x in base:\n",
    "    for y in os.listdir('archive (2)/IDC_regular_ps50_idx5/' + x + '/0'):        \n",
    "        class0.append(y)\n",
    "\n",
    "    for z in os.listdir('archive (2)/IDC_regular_ps50_idx5/' + x + '/1'):\n",
    "        class1.append(z)\n",
    "\n",
    "    "
   ]
  },
  {
   "cell_type": "code",
   "execution_count": 4,
   "metadata": {},
   "outputs": [
    {
     "name": "stdout",
     "output_type": "stream",
     "text": [
      "198738 78786\n"
     ]
    }
   ],
   "source": [
    "print(len(class0),len(class1))"
   ]
  },
  {
   "cell_type": "code",
   "execution_count": 5,
   "metadata": {},
   "outputs": [],
   "source": [
    "sampled_class0 = random.sample(class0,78786)\n",
    "sampled_class1 = random.sample(class1,78786)"
   ]
  },
  {
   "cell_type": "code",
   "execution_count": 93,
   "metadata": {},
   "outputs": [],
   "source": [
    "sampled_class0_new = []\n",
    "sampled_class1_new = []\n",
    "for i in sampled_class0:\n",
    "    newi = i.split('_')[0]\n",
    "    sampled_class0_new.append('archive (2)/IDC_regular_ps50_idx5/' + newi + '/0/'+ i)\n",
    "    \n",
    "for j in sampled_class1:\n",
    "    newi = j.split('_')[0]\n",
    "    sampled_class1_new.append('archive (2)/IDC_regular_ps50_idx5/' + newi + '/1/'+ j )\n",
    "    \n"
   ]
  },
  {
   "cell_type": "code",
   "execution_count": 8,
   "metadata": {},
   "outputs": [],
   "source": [
    "for x in base:\n",
    "    img = cv2.imread('archive (2)/IDC_regular_ps50_idx5/' + x + '/0/'+'12820_idx5_x3251_y801_class0.png')\n",
    "    "
   ]
  },
  {
   "cell_type": "code",
   "execution_count": 73,
   "metadata": {
    "code_folding": []
   },
   "outputs": [],
   "source": [
    "from matplotlib.image import imread\n",
    "import cv2\n",
    "\n",
    "def imageArrays(data,label):\n",
    "    img_arrays = []\n",
    "    for i in data:\n",
    "        if i.endswith('png'):\n",
    "            new_i = i.split('_')[0]\n",
    "            for num in range(0,2):\n",
    "                new_i_path = 'archive (2)/IDC_regular_ps50_idx5/' + new_i + '/'+ str(num) +'/'+ i\n",
    "                img = cv2.imread(new_i_path,cv2.IMREAD_COLOR)\n",
    "                img_sized = cv2.resize(img,(50,50), interpolation=cv2.INTER_LINEAR)\n",
    "                img_arrays.append([img_sized , label])\n",
    "                \n",
    "    return img_arrays"
   ]
  },
  {
   "cell_type": "code",
   "execution_count": 84,
   "metadata": {},
   "outputs": [],
   "source": [
    "from matplotlib.image import imread\n",
    "import cv2\n",
    "\n",
    "def imageArrays(data,label):\n",
    "    img_arrays = []\n",
    "    for i in data:\n",
    "        if i.endswith('png'):\n",
    "                img = cv2.imread(i,cv2.IMREAD_COLOR)\n",
    "                img_sized = cv2.resize(img,(50,50), interpolation=cv2.INTER_LINEAR)\n",
    "                img_arrays.append([img_sized , label])\n",
    "                \n",
    "    return img_arrays"
   ]
  },
  {
   "cell_type": "code",
   "execution_count": 95,
   "metadata": {
    "scrolled": true
   },
   "outputs": [],
   "source": [
    "class0_array = imageArrays(sampled_class0_new[:10000], 0)\n",
    "class1_array = imageArrays(sampled_class1_new[:10000], 1)"
   ]
  },
  {
   "cell_type": "code",
   "execution_count": 100,
   "metadata": {},
   "outputs": [
    {
     "name": "stderr",
     "output_type": "stream",
     "text": [
      "<__array_function__ internals>:5: VisibleDeprecationWarning: Creating an ndarray from ragged nested sequences (which is a list-or-tuple of lists-or-tuples-or ndarrays with different lengths or shapes) is deprecated. If you meant to do this, you must specify 'dtype=object' when creating the ndarray\n"
     ]
    }
   ],
   "source": [
    "combined_data = np.concatenate((class0_array,class1_array))\n",
    "random.seed(42)\n",
    "random.shuffle(combined_data)"
   ]
  },
  {
   "cell_type": "code",
   "execution_count": 104,
   "metadata": {},
   "outputs": [
    {
     "data": {
      "text/plain": [
       "(20000, 50, 50, 3)"
      ]
     },
     "execution_count": 104,
     "metadata": {},
     "output_type": "execute_result"
    }
   ],
   "source": [
    "X = []\n",
    "y = []\n",
    "\n",
    "for features,labels in combined_data:\n",
    "    X.append(features)\n",
    "    y.append(labels)\n",
    "    \n",
    "X = np.array(X).reshape(-1,50,50,3)\n",
    "X.shape"
   ]
  },
  {
   "cell_type": "code",
   "execution_count": 105,
   "metadata": {},
   "outputs": [
    {
     "name": "stdout",
     "output_type": "stream",
     "text": [
      "(16000, 50, 50, 3) (4000, 50, 50, 3) (16000, 2) (4000, 2)\n"
     ]
    }
   ],
   "source": [
    "X_train,X_test,y_train,y_test = train_test_split(X,y,test_size=0.2,random_state=42)\n",
    "y_train = to_categorical(y_train)\n",
    "y_test = to_categorical(y_test)\n",
    "print(X_train.shape,X_test.shape,y_train.shape,y_test.shape)"
   ]
  },
  {
   "cell_type": "code",
   "execution_count": 107,
   "metadata": {
    "scrolled": true
   },
   "outputs": [
    {
     "name": "stdout",
     "output_type": "stream",
     "text": [
      "Epoch 1/20\n",
      "500/500 - 66s - loss: 1.2030 - accuracy: 0.8533 - val_loss: 0.3534 - val_accuracy: 0.8622\n",
      "Epoch 2/20\n",
      "500/500 - 64s - loss: 0.2857 - accuracy: 0.8974 - val_loss: 0.2938 - val_accuracy: 0.8925\n",
      "Epoch 3/20\n",
      "500/500 - 62s - loss: 0.2012 - accuracy: 0.9319 - val_loss: 0.2816 - val_accuracy: 0.9078\n",
      "Epoch 4/20\n",
      "500/500 - 62s - loss: 0.1512 - accuracy: 0.9513 - val_loss: 0.2994 - val_accuracy: 0.9093\n",
      "Epoch 5/20\n",
      "500/500 - 59s - loss: 0.1124 - accuracy: 0.9657 - val_loss: 0.3381 - val_accuracy: 0.9035\n",
      "Epoch 6/20\n",
      "500/500 - 60s - loss: 0.0801 - accuracy: 0.9765 - val_loss: 0.3949 - val_accuracy: 0.9120\n",
      "Epoch 7/20\n",
      "500/500 - 59s - loss: 0.0659 - accuracy: 0.9825 - val_loss: 0.3666 - val_accuracy: 0.9215\n",
      "Epoch 8/20\n",
      "500/500 - 60s - loss: 0.0455 - accuracy: 0.9874 - val_loss: 0.3953 - val_accuracy: 0.9140\n",
      "Epoch 9/20\n",
      "500/500 - 66s - loss: 0.0438 - accuracy: 0.9888 - val_loss: 0.4255 - val_accuracy: 0.9225\n",
      "Epoch 10/20\n",
      "500/500 - 66s - loss: 0.0347 - accuracy: 0.9917 - val_loss: 0.4534 - val_accuracy: 0.9195\n",
      "Epoch 11/20\n",
      "500/500 - 63s - loss: 0.0180 - accuracy: 0.9966 - val_loss: 0.4878 - val_accuracy: 0.9210\n",
      "Epoch 12/20\n",
      "500/500 - 62s - loss: 0.0227 - accuracy: 0.9955 - val_loss: 0.5327 - val_accuracy: 0.9087\n",
      "Epoch 13/20\n",
      "500/500 - 62s - loss: 0.0132 - accuracy: 0.9976 - val_loss: 0.5600 - val_accuracy: 0.9233\n",
      "Epoch 14/20\n",
      "500/500 - 62s - loss: 0.0163 - accuracy: 0.9964 - val_loss: 0.5628 - val_accuracy: 0.9035\n",
      "Epoch 15/20\n",
      "500/500 - 64s - loss: 0.0203 - accuracy: 0.9961 - val_loss: 0.5775 - val_accuracy: 0.9135\n",
      "Epoch 16/20\n",
      "500/500 - 63s - loss: 0.0154 - accuracy: 0.9973 - val_loss: 0.8304 - val_accuracy: 0.9133\n",
      "Epoch 17/20\n",
      "500/500 - 63s - loss: 0.0122 - accuracy: 0.9982 - val_loss: 0.6033 - val_accuracy: 0.9210\n",
      "Epoch 18/20\n",
      "500/500 - 65s - loss: 0.0131 - accuracy: 0.9976 - val_loss: 0.6296 - val_accuracy: 0.9190\n",
      "Epoch 19/20\n",
      "500/500 - 65s - loss: 0.0062 - accuracy: 0.9994 - val_loss: 0.6621 - val_accuracy: 0.9225\n",
      "Epoch 20/20\n",
      "500/500 - 62s - loss: 0.0025 - accuracy: 0.9997 - val_loss: 0.7519 - val_accuracy: 0.9210\n"
     ]
    }
   ],
   "source": [
    "def createModel():\n",
    "    model = Sequential()\n",
    "    model.add(Conv2D(64,kernel_size=3,activation='relu',input_shape=(50,50,3)))\n",
    "    model.add(Conv2D(32,kernel_size=3,activation='relu'))\n",
    "    model.add(Flatten())\n",
    "    model.add(Dense(2,activation='softmax'))\n",
    "    adam = Adam(learning_rate=0.0001)\n",
    "    model.compile(loss=\"binary_crossentropy\",optimizer=adam,metrics=['accuracy'])\n",
    "    \n",
    "    return model\n",
    "\n",
    "\n",
    "model = createModel()\n",
    "    \n",
    "\n",
    "history = model.fit(X_train,y_train,validation_data=(X_test,y_test),epochs=20,verbose=2,)\n",
    "    "
   ]
  },
  {
   "cell_type": "markdown",
   "metadata": {},
   "source": [
    "#### 1st 20 epochs"
   ]
  },
  {
   "cell_type": "code",
   "execution_count": 108,
   "metadata": {
    "scrolled": true
   },
   "outputs": [
    {
     "data": {
      "image/png": "[encoded data removed]",
      "text/plain": [
       "<Figure size 432x288 with 1 Axes>"
      ]
     },
     "metadata": {
      "needs_background": "light"
     },
     "output_type": "display_data"
    }
   ],
   "source": [
    "plt.plot(history.history['accuracy'])\n",
    "plt.plot(history.history['val_accuracy'])\n",
    "plt.title('Model Accuracy')\n",
    "plt.xlabel('Accuracy')\n",
    "plt.ylabel('Epochs')\n",
    "plt.legend(['Train','Test'])\n",
    "plt.show()"
   ]
  },
  {
   "cell_type": "code",
   "execution_count": 109,
   "metadata": {
    "scrolled": false
   },
   "outputs": [
    {
     "data": {
      "image/png": "[encoded data removed]",
      "text/plain": [
       "<Figure size 432x288 with 1 Axes>"
      ]
     },
     "metadata": {
      "needs_background": "light"
     },
     "output_type": "display_data"
    }
   ],
   "source": [
    "plt.plot(history.history['loss'])\n",
    "plt.plot(history.history['val_loss'])\n",
    "plt.title('Model Loss')\n",
    "plt.xlabel('Loss')\n",
    "plt.ylabel('Epochs')\n",
    "plt.legend(['Train','Test'])\n",
    "plt.show()"
   ]
  }
 ],
 "metadata": {
  "kernelspec": {
   "display_name": "Python 3",
   "language": "python",
   "name": "python3"
  },
  "language_info": {
   "codemirror_mode": {
    "name": "ipython",
    "version": 3
   },
   "file_extension": ".py",
   "mimetype": "text/x-python",
   "name": "python",
   "nbconvert_exporter": "python",
   "pygments_lexer": "ipython3",
   "version": "3.8.3"
  }
 },
 "nbformat": 4,
 "nbformat_minor": 4
}
